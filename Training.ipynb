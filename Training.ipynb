{
  "cells": [
    {
      "cell_type": "code",
      "execution_count": 1,
      "metadata": {
        "colab": {
          "base_uri": "https://localhost:8080/"
        },
        "id": "1K1KnO20--xd",
        "outputId": "cba43cf1-908d-43c0-a58d-4a6252beee08"
      },
      "outputs": [
        {
          "name": "stdout",
          "output_type": "stream",
          "text": [
            "2.9.1\n"
          ]
        },
        {
          "name": "stderr",
          "output_type": "stream",
          "text": [
            "[nltk_data] Downloading package stopwords to\n",
            "[nltk_data]     C:\\Users\\User\\AppData\\Roaming\\nltk_data...\n",
            "[nltk_data]   Package stopwords is already up-to-date!\n"
          ]
        }
      ],
      "source": [
        "import csv\n",
        "import random\n",
        "import pickle\n",
        "import numpy as np\n",
        "import pandas as pd\n",
        "import matplotlib.pyplot as plt\n",
        "\n",
        "from sklearn.preprocessing import OneHotEncoder\n",
        "from sklearn.model_selection import train_test_split\n",
        "import tensorflow as tf\n",
        "from tensorflow.keras.preprocessing.text import Tokenizer\n",
        "from tensorflow.keras.preprocessing.sequence import pad_sequences\n",
        "\n",
        "import nltk\n",
        "nltk.download(\"stopwords\")\n",
        "from nltk.corpus import stopwords\n",
        "import re\n",
        "STOPWORDS = set(stopwords.words('english'))\n",
        "\n",
        "print(tf.__version__)"
      ]
    },
    {
      "cell_type": "code",
      "execution_count": 3,
      "metadata": {
        "id": "G6siJ_Ur_It4"
      },
      "outputs": [],
      "source": [
        "vocab_size = 10000\n",
        "embedding_dim = 64\n",
        "max_length = 200\n",
        "trunc_type = 'post'\n",
        "padding_type = 'post'\n",
        "oov_tok = '<OOV>'\n",
        "TRAINING_SPLIT = .8"
      ]
    },
    {
      "cell_type": "code",
      "execution_count": 4,
      "metadata": {
        "colab": {
          "base_uri": "https://localhost:8080/",
          "height": 751
        },
        "id": "_-RfV6bp_b4Z",
        "outputId": "1b7dae92-f697-48b7-ea02-5153b9b4ce70"
      },
      "outputs": [
        {
          "data": {
            "text/html": [
              "<div>\n",
              "<style scoped>\n",
              "    .dataframe tbody tr th:only-of-type {\n",
              "        vertical-align: middle;\n",
              "    }\n",
              "\n",
              "    .dataframe tbody tr th {\n",
              "        vertical-align: top;\n",
              "    }\n",
              "\n",
              "    .dataframe thead th {\n",
              "        text-align: right;\n",
              "    }\n",
              "</style>\n",
              "<table border=\"1\" class=\"dataframe\">\n",
              "  <thead>\n",
              "    <tr style=\"text-align: right;\">\n",
              "      <th></th>\n",
              "      <th>Label</th>\n",
              "      <th>Authors</th>\n",
              "      <th>Author(s) ID</th>\n",
              "      <th>Title</th>\n",
              "      <th>Year</th>\n",
              "      <th>Source title</th>\n",
              "      <th>Volume</th>\n",
              "      <th>Issue</th>\n",
              "      <th>Art. No.</th>\n",
              "      <th>Page start</th>\n",
              "      <th>...</th>\n",
              "      <th>Cited by</th>\n",
              "      <th>DOI</th>\n",
              "      <th>Link</th>\n",
              "      <th>Author Keywords</th>\n",
              "      <th>Index Keywords</th>\n",
              "      <th>Document Type</th>\n",
              "      <th>Publication Stage</th>\n",
              "      <th>Open Access</th>\n",
              "      <th>Source</th>\n",
              "      <th>EID</th>\n",
              "    </tr>\n",
              "  </thead>\n",
              "  <tbody>\n",
              "    <tr>\n",
              "      <th>0</th>\n",
              "      <td>Teknik</td>\n",
              "      <td>Deng S., Hu R., Ye W.</td>\n",
              "      <td>36701056800;57212620394;57221781210;</td>\n",
              "      <td>State Evaluation Technology of Distribution Ne...</td>\n",
              "      <td>2020</td>\n",
              "      <td>Gaodianya Jishu/High Voltage Engineering</td>\n",
              "      <td>46</td>\n",
              "      <td>12</td>\n",
              "      <td>NaN</td>\n",
              "      <td>4430</td>\n",
              "      <td>...</td>\n",
              "      <td>4.0</td>\n",
              "      <td>10.13336/j.1003-6520.hve.20192008</td>\n",
              "      <td>https://www.scopus.com/inward/record.uri?eid=2...</td>\n",
              "      <td>Fault diagnosis; Measurement and control syste...</td>\n",
              "      <td>Cable jointing; Electric power system security...</td>\n",
              "      <td>Article</td>\n",
              "      <td>Final</td>\n",
              "      <td>NaN</td>\n",
              "      <td>Scopus</td>\n",
              "      <td>2-s2.0-85100211935</td>\n",
              "    </tr>\n",
              "    <tr>\n",
              "      <th>1</th>\n",
              "      <td>Teknik</td>\n",
              "      <td>Song G., Li G., Yang H., Li H., Chen Y.</td>\n",
              "      <td>57220180612;7407048700;57220187707;57221546713...</td>\n",
              "      <td>Adaptive Control of Grid-connected Inverter in...</td>\n",
              "      <td>2020</td>\n",
              "      <td>Gaodianya Jishu/High Voltage Engineering</td>\n",
              "      <td>46</td>\n",
              "      <td>12</td>\n",
              "      <td>NaN</td>\n",
              "      <td>4455</td>\n",
              "      <td>...</td>\n",
              "      <td>NaN</td>\n",
              "      <td>10.13336/j.1003-6520.hve.20191686</td>\n",
              "      <td>https://www.scopus.com/inward/record.uri?eid=2...</td>\n",
              "      <td>Adaptive control; Global stability; Grid-conne...</td>\n",
              "      <td>Asymptotic stability; Control system stability...</td>\n",
              "      <td>Article</td>\n",
              "      <td>Final</td>\n",
              "      <td>NaN</td>\n",
              "      <td>Scopus</td>\n",
              "      <td>2-s2.0-85100137260</td>\n",
              "    </tr>\n",
              "    <tr>\n",
              "      <th>2</th>\n",
              "      <td>Teknik</td>\n",
              "      <td>Khan Z.H., Khan W.A., Tang J., Sheremet M.A.</td>\n",
              "      <td>55845420338;57208847884;55760572600;12766763900;</td>\n",
              "      <td>Entropy generation analysis of triple diffusiv...</td>\n",
              "      <td>2020</td>\n",
              "      <td>Chemical Engineering Science</td>\n",
              "      <td>228</td>\n",
              "      <td>NaN</td>\n",
              "      <td>115980</td>\n",
              "      <td>NaN</td>\n",
              "      <td>...</td>\n",
              "      <td>20.0</td>\n",
              "      <td>10.1016/j.ces.2020.115980</td>\n",
              "      <td>https://www.scopus.com/inward/record.uri?eid=2...</td>\n",
              "      <td>Entropy generation; Horizontal plate; Irrevers...</td>\n",
              "      <td>Flow of fluids; Mass transfer; Porous material...</td>\n",
              "      <td>Article</td>\n",
              "      <td>Final</td>\n",
              "      <td>NaN</td>\n",
              "      <td>Scopus</td>\n",
              "      <td>2-s2.0-85088977941</td>\n",
              "    </tr>\n",
              "    <tr>\n",
              "      <th>3</th>\n",
              "      <td>Teknik</td>\n",
              "      <td>Deleau T., Fechter M.H.H., Letourneau J.-J., C...</td>\n",
              "      <td>57218161588;57209575500;7006450306;6505808494;...</td>\n",
              "      <td>Determination of mass transfer coefficients in...</td>\n",
              "      <td>2020</td>\n",
              "      <td>Chemical Engineering Science</td>\n",
              "      <td>228</td>\n",
              "      <td>NaN</td>\n",
              "      <td>115960</td>\n",
              "      <td>NaN</td>\n",
              "      <td>...</td>\n",
              "      <td>4.0</td>\n",
              "      <td>10.1016/j.ces.2020.115960</td>\n",
              "      <td>https://www.scopus.com/inward/record.uri?eid=2...</td>\n",
              "      <td>High pressure; Mass transfer; Microfluidics; R...</td>\n",
              "      <td>Carbon dioxide; Fused silica; Mass transfer; R...</td>\n",
              "      <td>Article</td>\n",
              "      <td>Final</td>\n",
              "      <td>All Open Access, Green</td>\n",
              "      <td>Scopus</td>\n",
              "      <td>2-s2.0-85088135310</td>\n",
              "    </tr>\n",
              "    <tr>\n",
              "      <th>4</th>\n",
              "      <td>Teknik</td>\n",
              "      <td>Durán A.</td>\n",
              "      <td>35993192100;</td>\n",
              "      <td>On a model for internal waves in rotating fluids</td>\n",
              "      <td>2020</td>\n",
              "      <td>Applied Mathematics and Nonlinear Sciences</td>\n",
              "      <td>3</td>\n",
              "      <td>2</td>\n",
              "      <td>NaN</td>\n",
              "      <td>627</td>\n",
              "      <td>...</td>\n",
              "      <td>2.0</td>\n",
              "      <td>10.2478/AMNS.2018.2.00048</td>\n",
              "      <td>https://www.scopus.com/inward/record.uri?eid=2...</td>\n",
              "      <td>concerved quantities; Petviashvili iteration; ...</td>\n",
              "      <td>Plasma flow; Rotational flow; Solitons; Two ph...</td>\n",
              "      <td>Article</td>\n",
              "      <td>Final</td>\n",
              "      <td>All Open Access, Gold, Green</td>\n",
              "      <td>Scopus</td>\n",
              "      <td>2-s2.0-85069664183</td>\n",
              "    </tr>\n",
              "  </tbody>\n",
              "</table>\n",
              "<p>5 rows × 22 columns</p>\n",
              "</div>"
            ],
            "text/plain": [
              "    Label                                            Authors  \\\n",
              "0  Teknik                              Deng S., Hu R., Ye W.   \n",
              "1  Teknik            Song G., Li G., Yang H., Li H., Chen Y.   \n",
              "2  Teknik       Khan Z.H., Khan W.A., Tang J., Sheremet M.A.   \n",
              "3  Teknik  Deleau T., Fechter M.H.H., Letourneau J.-J., C...   \n",
              "4  Teknik                                           Durán A.   \n",
              "\n",
              "                                        Author(s) ID  \\\n",
              "0               36701056800;57212620394;57221781210;   \n",
              "1  57220180612;7407048700;57220187707;57221546713...   \n",
              "2   55845420338;57208847884;55760572600;12766763900;   \n",
              "3  57218161588;57209575500;7006450306;6505808494;...   \n",
              "4                                       35993192100;   \n",
              "\n",
              "                                               Title  Year  \\\n",
              "0  State Evaluation Technology of Distribution Ne...  2020   \n",
              "1  Adaptive Control of Grid-connected Inverter in...  2020   \n",
              "2  Entropy generation analysis of triple diffusiv...  2020   \n",
              "3  Determination of mass transfer coefficients in...  2020   \n",
              "4   On a model for internal waves in rotating fluids  2020   \n",
              "\n",
              "                                 Source title Volume Issue Art. No.  \\\n",
              "0    Gaodianya Jishu/High Voltage Engineering     46    12      NaN   \n",
              "1    Gaodianya Jishu/High Voltage Engineering     46    12      NaN   \n",
              "2                Chemical Engineering Science    228   NaN   115980   \n",
              "3                Chemical Engineering Science    228   NaN   115960   \n",
              "4  Applied Mathematics and Nonlinear Sciences      3     2      NaN   \n",
              "\n",
              "  Page start  ... Cited by                                DOI  \\\n",
              "0       4430  ...      4.0  10.13336/j.1003-6520.hve.20192008   \n",
              "1       4455  ...      NaN  10.13336/j.1003-6520.hve.20191686   \n",
              "2        NaN  ...     20.0          10.1016/j.ces.2020.115980   \n",
              "3        NaN  ...      4.0          10.1016/j.ces.2020.115960   \n",
              "4        627  ...      2.0          10.2478/AMNS.2018.2.00048   \n",
              "\n",
              "                                                Link  \\\n",
              "0  https://www.scopus.com/inward/record.uri?eid=2...   \n",
              "1  https://www.scopus.com/inward/record.uri?eid=2...   \n",
              "2  https://www.scopus.com/inward/record.uri?eid=2...   \n",
              "3  https://www.scopus.com/inward/record.uri?eid=2...   \n",
              "4  https://www.scopus.com/inward/record.uri?eid=2...   \n",
              "\n",
              "                                     Author Keywords  \\\n",
              "0  Fault diagnosis; Measurement and control syste...   \n",
              "1  Adaptive control; Global stability; Grid-conne...   \n",
              "2  Entropy generation; Horizontal plate; Irrevers...   \n",
              "3  High pressure; Mass transfer; Microfluidics; R...   \n",
              "4  concerved quantities; Petviashvili iteration; ...   \n",
              "\n",
              "                                      Index Keywords Document Type  \\\n",
              "0  Cable jointing; Electric power system security...       Article   \n",
              "1  Asymptotic stability; Control system stability...       Article   \n",
              "2  Flow of fluids; Mass transfer; Porous material...       Article   \n",
              "3  Carbon dioxide; Fused silica; Mass transfer; R...       Article   \n",
              "4  Plasma flow; Rotational flow; Solitons; Two ph...       Article   \n",
              "\n",
              "  Publication Stage                   Open Access  Source                 EID  \n",
              "0             Final                           NaN  Scopus  2-s2.0-85100211935  \n",
              "1             Final                           NaN  Scopus  2-s2.0-85100137260  \n",
              "2             Final                           NaN  Scopus  2-s2.0-85088977941  \n",
              "3             Final        All Open Access, Green  Scopus  2-s2.0-85088135310  \n",
              "4             Final  All Open Access, Gold, Green  Scopus  2-s2.0-85069664183  \n",
              "\n",
              "[5 rows x 22 columns]"
            ]
          },
          "execution_count": 4,
          "metadata": {},
          "output_type": "execute_result"
        }
      ],
      "source": [
        "filePath = 'D:\\Bismillah lolos Bangkit\\Bismillah Bangkit Lancar\\Dataset\\my_dataset_fix.csv'\n",
        "df = pd.read_csv(filePath)\n",
        "df.head()"
      ]
    },
    {
      "cell_type": "code",
      "execution_count": 5,
      "metadata": {
        "id": "IezHsA0iFMXF"
      },
      "outputs": [],
      "source": [
        "def parse_data_from_file(filename):\n",
        "    titles = []\n",
        "    labels = []\n",
        "    newdf =[]\n",
        "    punc = '''!()-[]{};:'\"\\,<>./?@#$%^&*_~'''\n",
        "    with open(filename,'r') as csvfile:\n",
        "      df = csv.reader(csvfile)\n",
        "      next(df)\n",
        "      for row in df:\n",
        "        new_df = {}\n",
        "        if row[0]== \"Teknik\":\n",
        "          new_df['teknik']=1\n",
        "          new_df['kesehatan']=0\n",
        "          new_df['ekonomi']=0\n",
        "          new_df['hukum']=0\n",
        "        elif row[0]== \"Kesehatan\":\n",
        "          new_df['teknik']=0\n",
        "          new_df['kesehatan']=1\n",
        "          new_df['ekonomi']=0\n",
        "          new_df['hukum']=0\n",
        "        elif row[0]== \"Ekonomi\":\n",
        "          new_df['teknik']=0\n",
        "          new_df['kesehatan']=0\n",
        "          new_df['ekonomi']=1\n",
        "          new_df['hukum']=0\n",
        "        elif row[0]== \"Hukum\":\n",
        "          new_df['teknik']=0\n",
        "          new_df['kesehatan']=0\n",
        "          new_df['ekonomi']=0\n",
        "          new_df['hukum']=1\n",
        "        title = row[3]\n",
        "        title = title.lower()\n",
        "        #labels.append(label)\n",
        "        for word in STOPWORDS:\n",
        "            token = ' ' + word + ' '\n",
        "            title = title.replace(token, ' ')\n",
        "            title = title.replace(' ', ' ')\n",
        "            title = re.sub(r'[^\\w\\s]', '', title)\n",
        "        new_df['title'] = title\n",
        "        newdf.append(new_df)\n",
        "        titles.append(title)\n",
        "      \"\"\"\n",
        "      for label in labels:\n",
        "        new_df['teknik'].append(label[0])\n",
        "        new_df['kesehatan'].append(label[1])\n",
        "        new_df['ekonomi'].append(label[2])\n",
        "        new_df['hukum'].append(label[3])\n",
        "      \"\"\"\n",
        "    return titles, labels, newdf"
      ]
    },
    {
      "cell_type": "code",
      "execution_count": 9,
      "metadata": {
        "colab": {
          "base_uri": "https://localhost:8080/"
        },
        "id": "pPDd16-O_1dp",
        "outputId": "3890f263-8499-405a-c2c8-e9791f75bdc6"
      },
      "outputs": [
        {
          "ename": "UnicodeDecodeError",
          "evalue": "'charmap' codec can't decode byte 0x9d in position 4483: character maps to <undefined>",
          "output_type": "error",
          "traceback": [
            "\u001b[1;31m---------------------------------------------------------------------------\u001b[0m",
            "\u001b[1;31mUnicodeDecodeError\u001b[0m                        Traceback (most recent call last)",
            "\u001b[1;32mc:\\Users\\User\\Downloads\\BismilllahBisa.ipynb Cell 5'\u001b[0m in \u001b[0;36m<module>\u001b[1;34m\u001b[0m\n\u001b[1;32m----> <a href='vscode-notebook-cell:/c%3A/Users/User/Downloads/BismilllahBisa.ipynb#ch0000004?line=0'>1</a>\u001b[0m titles, labels, newdf \u001b[39m=\u001b[39m parse_data_from_file(filePath)\n\u001b[0;32m      <a href='vscode-notebook-cell:/c%3A/Users/User/Downloads/BismilllahBisa.ipynb#ch0000004?line=2'>3</a>\u001b[0m \u001b[39mprint\u001b[39m(titles)\n\u001b[0;32m      <a href='vscode-notebook-cell:/c%3A/Users/User/Downloads/BismilllahBisa.ipynb#ch0000004?line=3'>4</a>\u001b[0m \u001b[39mprint\u001b[39m(labels)\n",
            "\u001b[1;32mc:\\Users\\User\\Downloads\\BismilllahBisa.ipynb Cell 4'\u001b[0m in \u001b[0;36mparse_data_from_file\u001b[1;34m(filename)\u001b[0m\n\u001b[0;32m      <a href='vscode-notebook-cell:/c%3A/Users/User/Downloads/BismilllahBisa.ipynb#ch0000003?line=6'>7</a>\u001b[0m df \u001b[39m=\u001b[39m csv\u001b[39m.\u001b[39mreader(csvfile)\n\u001b[0;32m      <a href='vscode-notebook-cell:/c%3A/Users/User/Downloads/BismilllahBisa.ipynb#ch0000003?line=7'>8</a>\u001b[0m \u001b[39mnext\u001b[39m(df)\n\u001b[1;32m----> <a href='vscode-notebook-cell:/c%3A/Users/User/Downloads/BismilllahBisa.ipynb#ch0000003?line=8'>9</a>\u001b[0m \u001b[39mfor\u001b[39;00m row \u001b[39min\u001b[39;00m df:\n\u001b[0;32m     <a href='vscode-notebook-cell:/c%3A/Users/User/Downloads/BismilllahBisa.ipynb#ch0000003?line=9'>10</a>\u001b[0m   \u001b[39m\"\"\"\u001b[39;00m\n\u001b[0;32m     <a href='vscode-notebook-cell:/c%3A/Users/User/Downloads/BismilllahBisa.ipynb#ch0000003?line=10'>11</a>\u001b[0m \u001b[39m  if row[0]== \"Teknik\":\u001b[39;00m\n\u001b[0;32m     <a href='vscode-notebook-cell:/c%3A/Users/User/Downloads/BismilllahBisa.ipynb#ch0000003?line=11'>12</a>\u001b[0m \u001b[39m    label = [1,0,0,0]\u001b[39;00m\n\u001b[1;32m   (...)\u001b[0m\n\u001b[0;32m     <a href='vscode-notebook-cell:/c%3A/Users/User/Downloads/BismilllahBisa.ipynb#ch0000003?line=21'>22</a>\u001b[0m \u001b[39m    labels.append(label)\u001b[39;00m\n\u001b[0;32m     <a href='vscode-notebook-cell:/c%3A/Users/User/Downloads/BismilllahBisa.ipynb#ch0000003?line=22'>23</a>\u001b[0m \u001b[39m  \"\"\"\u001b[39;00m\n\u001b[0;32m     <a href='vscode-notebook-cell:/c%3A/Users/User/Downloads/BismilllahBisa.ipynb#ch0000003?line=23'>24</a>\u001b[0m   new_df \u001b[39m=\u001b[39m {}\n",
            "File \u001b[1;32md:\\Install Python\\lib\\encodings\\cp1252.py:23\u001b[0m, in \u001b[0;36mIncrementalDecoder.decode\u001b[1;34m(self, input, final)\u001b[0m\n\u001b[0;32m     <a href='file:///d%3A/Install%20Python/lib/encodings/cp1252.py?line=21'>22</a>\u001b[0m \u001b[39mdef\u001b[39;00m \u001b[39mdecode\u001b[39m(\u001b[39mself\u001b[39m, \u001b[39minput\u001b[39m, final\u001b[39m=\u001b[39m\u001b[39mFalse\u001b[39;00m):\n\u001b[1;32m---> <a href='file:///d%3A/Install%20Python/lib/encodings/cp1252.py?line=22'>23</a>\u001b[0m     \u001b[39mreturn\u001b[39;00m codecs\u001b[39m.\u001b[39;49mcharmap_decode(\u001b[39minput\u001b[39;49m,\u001b[39mself\u001b[39;49m\u001b[39m.\u001b[39;49merrors,decoding_table)[\u001b[39m0\u001b[39m]\n",
            "\u001b[1;31mUnicodeDecodeError\u001b[0m: 'charmap' codec can't decode byte 0x9d in position 4483: character maps to <undefined>"
          ]
        }
      ],
      "source": [
        "titles, labels, newdf = parse_data_from_file(filePath)\n",
        "\n",
        "print(titles)\n",
        "print(labels)\n",
        "\n",
        "print(f\"dataset contains {len(titles)} examples\\n\")\n",
        "\n",
        "print(f\"Text of second example should look like this:\\n{titles[1]}\\n\")\n",
        "print(f\"Text of fourth example should look like this:\\n{titles[3]}\")\n",
        "\n",
        "print(f\"\\nLabels of last 5 examples should look like this:\\n{labels[-5:]}\")\n",
        "print(newdf)"
      ]
    },
    {
      "cell_type": "markdown",
      "metadata": {
        "id": "d48INwDsZxO9"
      },
      "source": []
    },
    {
      "cell_type": "code",
      "execution_count": 10,
      "metadata": {
        "id": "Kf1motpVHdlk"
      },
      "outputs": [],
      "source": [
        "def new_df(newdf):\n",
        "  with open('/content/new_df.csv','w') as csvfile:\n",
        "    Fieldnames = ['teknik','kesehatan','ekonomi','hukum','title']\n",
        "    dataframe = csv.DictWriter(csvfile, fieldnames=Fieldnames)\n",
        "    dataframe.writerow({'teknik':'teknik','kesehatan':'kesehatan','ekonomi':'ekonomi','hukum':'hukum','title':'title'})\n",
        "    for row in newdf:\n",
        "      dataframe.writerow(row)"
      ]
    },
    {
      "cell_type": "code",
      "execution_count": 8,
      "metadata": {
        "id": "TFD2blozJCkJ"
      },
      "outputs": [],
      "source": [
        "new_df(newdf)"
      ]
    },
    {
      "cell_type": "code",
      "execution_count": 9,
      "metadata": {
        "colab": {
          "base_uri": "https://localhost:8080/",
          "height": 206
        },
        "id": "tdKqeaQNPBkn",
        "outputId": "5ef36358-427c-4e00-f8a3-858e856fae18"
      },
      "outputs": [
        {
          "data": {
            "text/html": [
              "\n",
              "  <div id=\"df-61caedf8-ab01-4cbc-8509-d51eb2418868\">\n",
              "    <div class=\"colab-df-container\">\n",
              "      <div>\n",
              "<style scoped>\n",
              "    .dataframe tbody tr th:only-of-type {\n",
              "        vertical-align: middle;\n",
              "    }\n",
              "\n",
              "    .dataframe tbody tr th {\n",
              "        vertical-align: top;\n",
              "    }\n",
              "\n",
              "    .dataframe thead th {\n",
              "        text-align: right;\n",
              "    }\n",
              "</style>\n",
              "<table border=\"1\" class=\"dataframe\">\n",
              "  <thead>\n",
              "    <tr style=\"text-align: right;\">\n",
              "      <th></th>\n",
              "      <th>teknik</th>\n",
              "      <th>kesehatan</th>\n",
              "      <th>ekonomi</th>\n",
              "      <th>hukum</th>\n",
              "      <th>title</th>\n",
              "    </tr>\n",
              "  </thead>\n",
              "  <tbody>\n",
              "    <tr>\n",
              "      <th>0</th>\n",
              "      <td>1</td>\n",
              "      <td>0</td>\n",
              "      <td>0</td>\n",
              "      <td>0</td>\n",
              "      <td>state evaluation technology distribution netwo...</td>\n",
              "    </tr>\n",
              "    <tr>\n",
              "      <th>1</th>\n",
              "      <td>1</td>\n",
              "      <td>0</td>\n",
              "      <td>0</td>\n",
              "      <td>0</td>\n",
              "      <td>adaptive control gridconnected inverter microg...</td>\n",
              "    </tr>\n",
              "    <tr>\n",
              "      <th>2</th>\n",
              "      <td>1</td>\n",
              "      <td>0</td>\n",
              "      <td>0</td>\n",
              "      <td>0</td>\n",
              "      <td>entropy generation analysis triple diffusive f...</td>\n",
              "    </tr>\n",
              "    <tr>\n",
              "      <th>3</th>\n",
              "      <td>1</td>\n",
              "      <td>0</td>\n",
              "      <td>0</td>\n",
              "      <td>0</td>\n",
              "      <td>determination mass transfer coefficients highp...</td>\n",
              "    </tr>\n",
              "    <tr>\n",
              "      <th>4</th>\n",
              "      <td>1</td>\n",
              "      <td>0</td>\n",
              "      <td>0</td>\n",
              "      <td>0</td>\n",
              "      <td>on model internal waves rotating fluids</td>\n",
              "    </tr>\n",
              "  </tbody>\n",
              "</table>\n",
              "</div>\n",
              "      <button class=\"colab-df-convert\" onclick=\"convertToInteractive('df-61caedf8-ab01-4cbc-8509-d51eb2418868')\"\n",
              "              title=\"Convert this dataframe to an interactive table.\"\n",
              "              style=\"display:none;\">\n",
              "        \n",
              "  <svg xmlns=\"http://www.w3.org/2000/svg\" height=\"24px\"viewBox=\"0 0 24 24\"\n",
              "       width=\"24px\">\n",
              "    <path d=\"M0 0h24v24H0V0z\" fill=\"none\"/>\n",
              "    <path d=\"M18.56 5.44l.94 2.06.94-2.06 2.06-.94-2.06-.94-.94-2.06-.94 2.06-2.06.94zm-11 1L8.5 8.5l.94-2.06 2.06-.94-2.06-.94L8.5 2.5l-.94 2.06-2.06.94zm10 10l.94 2.06.94-2.06 2.06-.94-2.06-.94-.94-2.06-.94 2.06-2.06.94z\"/><path d=\"M17.41 7.96l-1.37-1.37c-.4-.4-.92-.59-1.43-.59-.52 0-1.04.2-1.43.59L10.3 9.45l-7.72 7.72c-.78.78-.78 2.05 0 2.83L4 21.41c.39.39.9.59 1.41.59.51 0 1.02-.2 1.41-.59l7.78-7.78 2.81-2.81c.8-.78.8-2.07 0-2.86zM5.41 20L4 18.59l7.72-7.72 1.47 1.35L5.41 20z\"/>\n",
              "  </svg>\n",
              "      </button>\n",
              "      \n",
              "  <style>\n",
              "    .colab-df-container {\n",
              "      display:flex;\n",
              "      flex-wrap:wrap;\n",
              "      gap: 12px;\n",
              "    }\n",
              "\n",
              "    .colab-df-convert {\n",
              "      background-color: #E8F0FE;\n",
              "      border: none;\n",
              "      border-radius: 50%;\n",
              "      cursor: pointer;\n",
              "      display: none;\n",
              "      fill: #1967D2;\n",
              "      height: 32px;\n",
              "      padding: 0 0 0 0;\n",
              "      width: 32px;\n",
              "    }\n",
              "\n",
              "    .colab-df-convert:hover {\n",
              "      background-color: #E2EBFA;\n",
              "      box-shadow: 0px 1px 2px rgba(60, 64, 67, 0.3), 0px 1px 3px 1px rgba(60, 64, 67, 0.15);\n",
              "      fill: #174EA6;\n",
              "    }\n",
              "\n",
              "    [theme=dark] .colab-df-convert {\n",
              "      background-color: #3B4455;\n",
              "      fill: #D2E3FC;\n",
              "    }\n",
              "\n",
              "    [theme=dark] .colab-df-convert:hover {\n",
              "      background-color: #434B5C;\n",
              "      box-shadow: 0px 1px 3px 1px rgba(0, 0, 0, 0.15);\n",
              "      filter: drop-shadow(0px 1px 2px rgba(0, 0, 0, 0.3));\n",
              "      fill: #FFFFFF;\n",
              "    }\n",
              "  </style>\n",
              "\n",
              "      <script>\n",
              "        const buttonEl =\n",
              "          document.querySelector('#df-61caedf8-ab01-4cbc-8509-d51eb2418868 button.colab-df-convert');\n",
              "        buttonEl.style.display =\n",
              "          google.colab.kernel.accessAllowed ? 'block' : 'none';\n",
              "\n",
              "        async function convertToInteractive(key) {\n",
              "          const element = document.querySelector('#df-61caedf8-ab01-4cbc-8509-d51eb2418868');\n",
              "          const dataTable =\n",
              "            await google.colab.kernel.invokeFunction('convertToInteractive',\n",
              "                                                     [key], {});\n",
              "          if (!dataTable) return;\n",
              "\n",
              "          const docLinkHtml = 'Like what you see? Visit the ' +\n",
              "            '<a target=\"_blank\" href=https://colab.research.google.com/notebooks/data_table.ipynb>data table notebook</a>'\n",
              "            + ' to learn more about interactive tables.';\n",
              "          element.innerHTML = '';\n",
              "          dataTable['output_type'] = 'display_data';\n",
              "          await google.colab.output.renderOutput(dataTable, element);\n",
              "          const docLink = document.createElement('div');\n",
              "          docLink.innerHTML = docLinkHtml;\n",
              "          element.appendChild(docLink);\n",
              "        }\n",
              "      </script>\n",
              "    </div>\n",
              "  </div>\n",
              "  "
            ],
            "text/plain": [
              "   teknik  kesehatan  ekonomi  hukum  \\\n",
              "0       1          0        0      0   \n",
              "1       1          0        0      0   \n",
              "2       1          0        0      0   \n",
              "3       1          0        0      0   \n",
              "4       1          0        0      0   \n",
              "\n",
              "                                               title  \n",
              "0  state evaluation technology distribution netwo...  \n",
              "1  adaptive control gridconnected inverter microg...  \n",
              "2  entropy generation analysis triple diffusive f...  \n",
              "3  determination mass transfer coefficients highp...  \n",
              "4            on model internal waves rotating fluids  "
            ]
          },
          "execution_count": 9,
          "metadata": {},
          "output_type": "execute_result"
        }
      ],
      "source": [
        "ndf = pd.read_csv('/content/new_df.csv')\n",
        "ndf.head()"
      ]
    },
    {
      "cell_type": "markdown",
      "metadata": {
        "id": "Ab-bs60QWJp_"
      },
      "source": [
        "#LOAD DATA"
      ]
    },
    {
      "cell_type": "code",
      "execution_count": 10,
      "metadata": {
        "colab": {
          "base_uri": "https://localhost:8080/"
        },
        "id": "pPo-sg-fS57l",
        "outputId": "23fc7f0f-3bd0-4245-b485-73f02930ae87"
      },
      "outputs": [
        {
          "name": "stdout",
          "output_type": "stream",
          "text": [
            "Shape: (8000, 5)\n"
          ]
        }
      ],
      "source": [
        "dataset_path = '/content/new_df.csv'\n",
        "dataset_df = pd.read_csv(dataset_path)\n",
        "print(\"Shape:\", dataset_df.shape)"
      ]
    },
    {
      "cell_type": "code",
      "execution_count": 11,
      "metadata": {
        "colab": {
          "base_uri": "https://localhost:8080/"
        },
        "id": "U0H9gS-GWkGd",
        "outputId": "0e436e71-2e23-4a16-87f8-0a9779d6bb35"
      },
      "outputs": [
        {
          "name": "stdout",
          "output_type": "stream",
          "text": [
            "Index(['teknik', 'kesehatan', 'ekonomi', 'hukum'], dtype='object')\n",
            "Number of classes: 4\n"
          ]
        }
      ],
      "source": [
        "text_df = dataset_df['title']\n",
        "features = dataset_df.columns[:4]\n",
        "print(features)\n",
        "label_df = dataset_df[features]\n",
        "num_classes = len(features)\n",
        "print(\"Number of classes:\", num_classes)"
      ]
    },
    {
      "cell_type": "code",
      "execution_count": 12,
      "metadata": {
        "colab": {
          "base_uri": "https://localhost:8080/"
        },
        "id": "VRuJyfohYFAH",
        "outputId": "cb381d90-e3b3-4aca-feea-8fa3150455b4"
      },
      "outputs": [
        {
          "name": "stdout",
          "output_type": "stream",
          "text": [
            "4000 data for training\n",
            "4000 data for validation\n"
          ]
        }
      ],
      "source": [
        "train_text, val_text, train_label, val_label = train_test_split(text_df, label_df, test_size=0.50, random_state=37)\n",
        "print(train_text.shape[0], \"data for training\")\n",
        "print(val_text.shape[0], \"data for validation\")"
      ]
    },
    {
      "cell_type": "code",
      "execution_count": 13,
      "metadata": {
        "id": "MzSWZt04lhaG"
      },
      "outputs": [],
      "source": [
        "def seq_pad_and_trunc(titles, padding, truncating, maxlen):\n",
        "    tokenizer = Tokenizer(num_words=vocab_size, oov_token='<OOV>')\n",
        "    tokenizer.fit_on_texts(titles)\n",
        "    titles = tokenizer.texts_to_sequences(titles)\n",
        "    pad_trunc_sequences = pad_sequences(titles, maxlen=maxlen, truncating=truncating,padding=padding)\n",
        "    return pad_trunc_sequences"
      ]
    },
    {
      "cell_type": "code",
      "execution_count": 14,
      "metadata": {
        "colab": {
          "base_uri": "https://localhost:8080/"
        },
        "id": "T62YwwqmmLs_",
        "outputId": "3c46ef65-65ae-44bf-d1c2-6542a39371a6"
      },
      "outputs": [
        {
          "name": "stdout",
          "output_type": "stream",
          "text": [
            "Padded and truncated training sequences have shape: [[4308 2711 4309 ...    0    0    0]\n",
            " [  36  144  113 ...    0    0    0]\n",
            " [1079 1080 1291 ...    0    0    0]\n",
            " ...\n",
            " [1205  143    8 ...    0    0    0]\n",
            " [ 282  745    1 ...    0    0    0]\n",
            " [ 198   30  888 ...    0    0    0]]\n",
            "\n",
            "Padded and truncated validation sequences have shape: (4000, 200)\n"
          ]
        }
      ],
      "source": [
        "train_seq = seq_pad_and_trunc(train_text, padding_type, trunc_type, max_length)\n",
        "val_seq = seq_pad_and_trunc(val_text, padding_type, trunc_type, max_length)\n",
        "\n",
        "print(f\"Padded and truncated training sequences have shape: {train_seq}\\n\")\n",
        "print(f\"Padded and truncated validation sequences have shape: {val_seq.shape}\")"
      ]
    },
    {
      "cell_type": "code",
      "execution_count": 15,
      "metadata": {
        "id": "nOXOr_7jfvzg"
      },
      "outputs": [],
      "source": [
        "batch_size = 32\n",
        "train_ds = tf.data.Dataset.from_tensor_slices((train_seq, train_label.values))\n",
        "train_ds = train_ds.shuffle(train_text.shape[0] // 4).batch(batch_size)\n",
        "val_ds = tf.data.Dataset.from_tensor_slices((val_seq, val_label.values))\n",
        "val_ds = val_ds.shuffle(val_text.shape[0] // 4).batch(batch_size)"
      ]
    },
    {
      "cell_type": "code",
      "execution_count": 36,
      "metadata": {
        "id": "sLfftMF9nh2H"
      },
      "outputs": [],
      "source": [
        "def create_model(num_words, embedding_dim, maxlen):\n",
        "    model = tf.keras.Sequential([ \n",
        "      tf.keras.layers.Embedding(num_words, embedding_dim, input_length=maxlen),\n",
        "      tf.keras.layers.GlobalAveragePooling1D(),\n",
        "      tf.keras.layers.Dense(516, activation='relu'),\n",
        "      tf.keras.layers.Dense(4, activation='softmax')\n",
        "    ])\n",
        "    model.compile(loss='categorical_crossentropy',\n",
        "                  optimizer='adam', #sgd/rmsprop\n",
        "                  metrics=['accuracy']) \n",
        "\n",
        "    ### END CODE HERE\n",
        "\n",
        "    return model"
      ]
    },
    {
      "cell_type": "code",
      "execution_count": 37,
      "metadata": {
        "id": "8ezql0uSJy7F"
      },
      "outputs": [],
      "source": [
        "model = create_model(vocab_size, embedding_dim, max_length)"
      ]
    },
    {
      "cell_type": "code",
      "execution_count": 38,
      "metadata": {
        "colab": {
          "base_uri": "https://localhost:8080/"
        },
        "id": "kGMtFSmVJpvC",
        "outputId": "b4e02199-e6c2-44a1-c68d-cdee5be3326a"
      },
      "outputs": [
        {
          "name": "stdout",
          "output_type": "stream",
          "text": [
            "Model: \"sequential_1\"\n",
            "_________________________________________________________________\n",
            " Layer (type)                Output Shape              Param #   \n",
            "=================================================================\n",
            " embedding_1 (Embedding)     (None, 200, 64)           640000    \n",
            "                                                                 \n",
            " global_average_pooling1d_1   (None, 64)               0         \n",
            " (GlobalAveragePooling1D)                                        \n",
            "                                                                 \n",
            " dense_2 (Dense)             (None, 516)               33540     \n",
            "                                                                 \n",
            " dense_3 (Dense)             (None, 4)                 2068      \n",
            "                                                                 \n",
            "=================================================================\n",
            "Total params: 675,608\n",
            "Trainable params: 675,608\n",
            "Non-trainable params: 0\n",
            "_________________________________________________________________\n"
          ]
        }
      ],
      "source": [
        "model.summary()"
      ]
    },
    {
      "cell_type": "code",
      "execution_count": 39,
      "metadata": {
        "colab": {
          "base_uri": "https://localhost:8080/"
        },
        "id": "TSAwk4c_Ikc1",
        "outputId": "cd507cc2-6863-490a-dc5c-6288f778733f"
      },
      "outputs": [
        {
          "name": "stdout",
          "output_type": "stream",
          "text": [
            "Epoch 1/50\n",
            "125/125 [==============================] - 1s 7ms/step - loss: 1.3859 - accuracy: 0.2558 - val_loss: 1.3860 - val_accuracy: 0.2463\n",
            "Epoch 2/50\n",
            "125/125 [==============================] - 1s 8ms/step - loss: 1.3646 - accuracy: 0.3722 - val_loss: 1.3719 - val_accuracy: 0.3043\n",
            "Epoch 3/50\n",
            "125/125 [==============================] - 1s 8ms/step - loss: 1.0932 - accuracy: 0.6895 - val_loss: 1.3164 - val_accuracy: 0.3665\n",
            "Epoch 4/50\n",
            "125/125 [==============================] - 1s 6ms/step - loss: 0.5871 - accuracy: 0.8520 - val_loss: 1.3941 - val_accuracy: 0.3860\n",
            "Epoch 5/50\n",
            "125/125 [==============================] - 1s 7ms/step - loss: 0.3182 - accuracy: 0.9298 - val_loss: 1.5478 - val_accuracy: 0.3815\n",
            "Epoch 6/50\n",
            "125/125 [==============================] - 1s 8ms/step - loss: 0.2160 - accuracy: 0.9490 - val_loss: 1.6616 - val_accuracy: 0.3898\n",
            "Epoch 7/50\n",
            "125/125 [==============================] - 1s 8ms/step - loss: 0.1541 - accuracy: 0.9643 - val_loss: 1.7771 - val_accuracy: 0.3880\n",
            "Epoch 8/50\n",
            "125/125 [==============================] - 1s 7ms/step - loss: 0.1165 - accuracy: 0.9750 - val_loss: 2.0063 - val_accuracy: 0.3738\n",
            "Epoch 9/50\n",
            "125/125 [==============================] - 1s 8ms/step - loss: 0.0922 - accuracy: 0.9808 - val_loss: 2.0356 - val_accuracy: 0.3780\n",
            "Epoch 10/50\n",
            "125/125 [==============================] - 1s 7ms/step - loss: 0.0712 - accuracy: 0.9837 - val_loss: 2.1437 - val_accuracy: 0.3770\n",
            "Epoch 11/50\n",
            "125/125 [==============================] - 1s 6ms/step - loss: 0.0571 - accuracy: 0.9872 - val_loss: 2.2009 - val_accuracy: 0.3745\n",
            "Epoch 12/50\n",
            "125/125 [==============================] - 1s 7ms/step - loss: 0.0429 - accuracy: 0.9920 - val_loss: 2.2999 - val_accuracy: 0.3735\n",
            "Epoch 13/50\n",
            "125/125 [==============================] - 1s 6ms/step - loss: 0.0353 - accuracy: 0.9933 - val_loss: 2.4605 - val_accuracy: 0.3665\n",
            "Epoch 14/50\n",
            "125/125 [==============================] - 1s 6ms/step - loss: 0.0271 - accuracy: 0.9962 - val_loss: 2.5275 - val_accuracy: 0.3632\n",
            "Epoch 15/50\n",
            "125/125 [==============================] - 1s 7ms/step - loss: 0.0223 - accuracy: 0.9973 - val_loss: 2.6122 - val_accuracy: 0.3700\n",
            "Epoch 16/50\n",
            "125/125 [==============================] - 1s 6ms/step - loss: 0.0181 - accuracy: 0.9983 - val_loss: 2.7031 - val_accuracy: 0.3747\n",
            "Epoch 17/50\n",
            "125/125 [==============================] - 1s 7ms/step - loss: 0.0145 - accuracy: 0.9977 - val_loss: 2.7577 - val_accuracy: 0.3605\n",
            "Epoch 18/50\n",
            "125/125 [==============================] - 1s 6ms/step - loss: 0.0135 - accuracy: 0.9983 - val_loss: 2.9210 - val_accuracy: 0.3585\n",
            "Epoch 19/50\n",
            "125/125 [==============================] - 1s 6ms/step - loss: 0.0109 - accuracy: 0.9995 - val_loss: 2.9244 - val_accuracy: 0.3715\n",
            "Epoch 20/50\n",
            "125/125 [==============================] - 1s 7ms/step - loss: 0.0100 - accuracy: 0.9992 - val_loss: 2.9554 - val_accuracy: 0.3627\n",
            "Epoch 21/50\n",
            "125/125 [==============================] - 1s 8ms/step - loss: 0.0076 - accuracy: 0.9995 - val_loss: 3.1148 - val_accuracy: 0.3535\n",
            "Epoch 22/50\n",
            "125/125 [==============================] - 1s 6ms/step - loss: 0.0073 - accuracy: 0.9995 - val_loss: 3.1664 - val_accuracy: 0.3613\n",
            "Epoch 23/50\n",
            "125/125 [==============================] - 1s 8ms/step - loss: 0.0067 - accuracy: 0.9998 - val_loss: 3.2019 - val_accuracy: 0.3598\n",
            "Epoch 24/50\n",
            "125/125 [==============================] - 1s 8ms/step - loss: 0.0056 - accuracy: 0.9998 - val_loss: 3.3894 - val_accuracy: 0.3517\n",
            "Epoch 25/50\n",
            "125/125 [==============================] - 1s 7ms/step - loss: 0.0051 - accuracy: 0.9998 - val_loss: 3.3488 - val_accuracy: 0.3585\n",
            "Epoch 26/50\n",
            "125/125 [==============================] - 1s 8ms/step - loss: 0.0042 - accuracy: 1.0000 - val_loss: 3.3665 - val_accuracy: 0.3590\n",
            "Epoch 27/50\n",
            "125/125 [==============================] - 1s 6ms/step - loss: 0.0042 - accuracy: 0.9998 - val_loss: 3.4770 - val_accuracy: 0.3553\n",
            "Epoch 28/50\n",
            "125/125 [==============================] - 1s 6ms/step - loss: 0.0044 - accuracy: 0.9995 - val_loss: 3.4537 - val_accuracy: 0.3593\n",
            "Epoch 29/50\n",
            "125/125 [==============================] - 1s 6ms/step - loss: 0.0031 - accuracy: 1.0000 - val_loss: 3.5470 - val_accuracy: 0.3672\n",
            "Epoch 30/50\n",
            "125/125 [==============================] - 1s 6ms/step - loss: 0.0027 - accuracy: 1.0000 - val_loss: 3.5479 - val_accuracy: 0.3655\n",
            "Epoch 31/50\n",
            "125/125 [==============================] - 1s 7ms/step - loss: 0.0027 - accuracy: 1.0000 - val_loss: 3.6029 - val_accuracy: 0.3553\n",
            "Epoch 32/50\n",
            "125/125 [==============================] - 1s 6ms/step - loss: 0.0032 - accuracy: 0.9995 - val_loss: 3.6460 - val_accuracy: 0.3607\n",
            "Epoch 33/50\n",
            "125/125 [==============================] - 1s 8ms/step - loss: 0.0028 - accuracy: 0.9998 - val_loss: 3.7091 - val_accuracy: 0.3507\n",
            "Epoch 34/50\n",
            "125/125 [==============================] - 1s 6ms/step - loss: 0.0018 - accuracy: 1.0000 - val_loss: 3.9277 - val_accuracy: 0.3532\n",
            "Epoch 35/50\n",
            "125/125 [==============================] - 1s 8ms/step - loss: 0.0022 - accuracy: 0.9998 - val_loss: 3.9065 - val_accuracy: 0.3577\n",
            "Epoch 36/50\n",
            "125/125 [==============================] - 1s 6ms/step - loss: 0.0023 - accuracy: 0.9998 - val_loss: 4.1085 - val_accuracy: 0.3515\n",
            "Epoch 37/50\n",
            "125/125 [==============================] - 1s 6ms/step - loss: 0.0017 - accuracy: 0.9998 - val_loss: 4.1703 - val_accuracy: 0.3458\n",
            "Epoch 38/50\n",
            "125/125 [==============================] - 1s 6ms/step - loss: 0.0018 - accuracy: 0.9998 - val_loss: 4.0843 - val_accuracy: 0.3512\n",
            "Epoch 39/50\n",
            "125/125 [==============================] - 1s 6ms/step - loss: 0.0011 - accuracy: 1.0000 - val_loss: 3.9675 - val_accuracy: 0.3568\n",
            "Epoch 40/50\n",
            "125/125 [==============================] - 1s 8ms/step - loss: 0.0013 - accuracy: 1.0000 - val_loss: 4.2002 - val_accuracy: 0.3512\n",
            "Epoch 41/50\n",
            "125/125 [==============================] - 1s 8ms/step - loss: 0.0012 - accuracy: 1.0000 - val_loss: 4.3251 - val_accuracy: 0.3510\n",
            "Epoch 42/50\n",
            "125/125 [==============================] - 1s 6ms/step - loss: 0.0017 - accuracy: 0.9998 - val_loss: 4.2268 - val_accuracy: 0.3483\n",
            "Epoch 43/50\n",
            "125/125 [==============================] - 1s 6ms/step - loss: 0.0011 - accuracy: 1.0000 - val_loss: 4.1960 - val_accuracy: 0.3557\n",
            "Epoch 44/50\n",
            "125/125 [==============================] - 1s 6ms/step - loss: 0.0020 - accuracy: 0.9998 - val_loss: 4.4574 - val_accuracy: 0.3467\n",
            "Epoch 45/50\n",
            "125/125 [==============================] - 1s 6ms/step - loss: 0.0024 - accuracy: 0.9998 - val_loss: 4.8797 - val_accuracy: 0.3550\n",
            "Epoch 46/50\n",
            "125/125 [==============================] - 1s 6ms/step - loss: 0.0087 - accuracy: 0.9977 - val_loss: 5.0508 - val_accuracy: 0.3450\n",
            "Epoch 47/50\n",
            "125/125 [==============================] - 1s 6ms/step - loss: 8.1629e-04 - accuracy: 1.0000 - val_loss: 4.5523 - val_accuracy: 0.3568\n",
            "Epoch 48/50\n",
            "125/125 [==============================] - 1s 6ms/step - loss: 4.2469e-04 - accuracy: 1.0000 - val_loss: 4.4240 - val_accuracy: 0.3553\n",
            "Epoch 49/50\n",
            "125/125 [==============================] - 1s 6ms/step - loss: 4.3276e-04 - accuracy: 1.0000 - val_loss: 4.4484 - val_accuracy: 0.3517\n",
            "Epoch 50/50\n",
            "125/125 [==============================] - 1s 6ms/step - loss: 4.0037e-04 - accuracy: 1.0000 - val_loss: 4.5723 - val_accuracy: 0.3543\n"
          ]
        }
      ],
      "source": [
        "history = model.fit(train_ds, epochs=50, batch_size=64, validation_data=(val_ds))"
      ]
    },
    {
      "cell_type": "code",
      "execution_count": 20,
      "metadata": {
        "id": "N05CJeNVtjGw"
      },
      "outputs": [],
      "source": [
        "model.save('/content/my_model.h5')"
      ]
    },
    {
      "cell_type": "code",
      "execution_count": 40,
      "metadata": {
        "colab": {
          "base_uri": "https://localhost:8080/",
          "height": 545
        },
        "id": "nRa5cZsrt0OS",
        "outputId": "833c870d-6a45-464d-9e51-4d80f8ebe489"
      },
      "outputs": [
        {
          "data": {
            "image/png": "[encoded data removed]",
            "text/plain": [
              "<Figure size 432x288 with 1 Axes>"
            ]
          },
          "metadata": {
            "needs_background": "light"
          },
          "output_type": "display_data"
        },
        {
          "data": {
            "image/png": "[encoded data removed]",
            "text/plain": [
              "<Figure size 432x288 with 1 Axes>"
            ]
          },
          "metadata": {
            "needs_background": "light"
          },
          "output_type": "display_data"
        }
      ],
      "source": [
        "# Plot the chart for accuracy and loss on both training and validation\n",
        "acc = history.history['accuracy']\n",
        "val_acc = history.history['val_accuracy']\n",
        "loss = history.history['loss']\n",
        "val_loss = history.history['val_loss']\n",
        "\n",
        "epochs = range(len(acc))\n",
        "\n",
        "plt.plot(epochs, acc, 'r', label='Training accuracy')\n",
        "plt.plot(epochs, val_acc, 'b', label='Validation accuracy')\n",
        "plt.title('Training and validation accuracy')\n",
        "plt.legend()\n",
        "plt.figure()\n",
        "\n",
        "plt.plot(epochs, loss, 'r', label='Training Loss')\n",
        "plt.plot(epochs, val_loss, 'b', label='Validation Loss')\n",
        "plt.title('Training and validation loss')\n",
        "plt.legend()\n",
        "\n",
        "plt.show()"
      ]
    },
    {
      "cell_type": "code",
      "execution_count": 22,
      "metadata": {
        "id": "BHepYWGA5-NN"
      },
      "outputs": [],
      "source": [
        "def cleaning_stopwords(title):\n",
        "  title = title.lower()\n",
        "  for word in STOPWORDS:\n",
        "    token = ' ' + word + ' '\n",
        "    Title = title.replace(token, ' ')\n",
        "    title = title.replace(' ', ' ')\n",
        "    title = re.sub(r'[^\\w\\s]', '', title)\n",
        "  return title"
      ]
    },
    {
      "cell_type": "code",
      "execution_count": 23,
      "metadata": {
        "id": "b6zSXX89eI-n"
      },
      "outputs": [],
      "source": [
        "  model = tf.keras.models.load_model('/content/my_model.h5')"
      ]
    },
    {
      "cell_type": "code",
      "execution_count": 34,
      "metadata": {
        "id": "Tt0Ce5nWvbPt"
      },
      "outputs": [],
      "source": [
        "def predict(title):\n",
        "  class_names = ['teknik','kesehatan','ekonomi','hukum']\n",
        "  clean_words = cleaning_stopwords(title)\n",
        "  try_seq = seq_pad_and_trunc(clean_words, padding_type, trunc_type, max_length)\n",
        "  prediction = model.predict(try_seq)\n",
        "  index = prediction[0].argmax()\n",
        "  label = class_names[index]\n",
        "  return label\n"
      ]
    },
    {
      "cell_type": "code",
      "execution_count": 35,
      "metadata": {
        "colab": {
          "base_uri": "https://localhost:8080/"
        },
        "id": "6f6ZFWRuxhbr",
        "outputId": "9e65eee7-2dcf-4538-80d7-88de15b1b08d"
      },
      "outputs": [
        {
          "name": "stdout",
          "output_type": "stream",
          "text": [
            "teknik\n"
          ]
        }
      ],
      "source": [
        "x = \"From incidence to strategy: A systematic review in playing-related musculoskeletal disorders\"\n",
        "print(predict(x))"
      ]
    }
  ],
  "metadata": {
    "colab": {
      "collapsed_sections": [],
      "name": "BismilllahBisa.ipynb",
      "provenance": []
    },
    "interpreter": {
      "hash": "da9c4892578d2e30999b8208521f12a13a401625a039b53ca9074a5dd25c76e3"
    },
    "kernelspec": {
      "display_name": "Python 3.9.7 64-bit",
      "language": "python",
      "name": "python3"
    },
    "language_info": {
      "codemirror_mode": {
        "name": "ipython",
        "version": 3
      },
      "file_extension": ".py",
      "mimetype": "text/x-python",
      "name": "python",
      "nbconvert_exporter": "python",
      "pygments_lexer": "ipython3",
      "version": "3.9.7"
    }
  },
  "nbformat": 4,
  "nbformat_minor": 0
}
